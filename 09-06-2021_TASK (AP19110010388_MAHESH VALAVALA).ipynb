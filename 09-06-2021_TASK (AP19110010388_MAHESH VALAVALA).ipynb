{
 "cells": [
  {
   "cell_type": "markdown",
   "metadata": {},
   "source": [
    "# TASK-1"
   ]
  },
  {
   "cell_type": "code",
   "execution_count": null,
   "metadata": {},
   "outputs": [],
   "source": [
    "# Take last 3 values of roll number(AP19110010421)\n",
    "# if value is startswith \"01\" --> 'Cse Dept'\n",
    "# elif value is starts with '11' --> 'IT Dept'\n",
    "# elif value is startswith \"21\" --> 'ECE Dept'\n",
    "# else not an SRM student"
   ]
  },
  {
   "cell_type": "code",
   "execution_count": 1,
   "metadata": {},
   "outputs": [
    {
     "name": "stdout",
     "output_type": "stream",
     "text": [
      "Enter your Roll number : AP19110010388\n",
      "AP19110010388 The Last Three Digits are 388\n",
      "388 not an SRM student\n"
     ]
    }
   ],
   "source": [
    "string = str(input(\"Enter your Roll number : \"))\n",
    "last_3 = string[-3:]\n",
    "print(string,\"The Last Three Digits are\", last_3)\n",
    "if last_3.startswith('01'):\n",
    "    print(last_3,\"Student belongs to CSE Department\")\n",
    "elif last_3.startswith('11'):\n",
    "    print(last_3,\"Student belongs to IT Department\")\n",
    "elif last_3.startswith('11'):\n",
    "    print(last_3,\"Student belongs to ECE Department\")\n",
    "else:\n",
    "    print(last_3,\"not an SRM student\")"
   ]
  },
  {
   "cell_type": "markdown",
   "metadata": {},
   "source": [
    "# TASK-2"
   ]
  },
  {
   "cell_type": "markdown",
   "metadata": {},
   "source": [
    "* Find all leap years between 1800 to 2020"
   ]
  },
  {
   "cell_type": "code",
   "execution_count": 5,
   "metadata": {},
   "outputs": [
    {
     "name": "stdout",
     "output_type": "stream",
     "text": [
      "The leap years are:\n",
      "1804\t1808\t1812\t1816\t1820\t1824\t1828\t1832\t1836\t1840\t1844\t1848\t1852\t1856\t1860\t1864\t1868\t1872\t1876\t1880\t1884\t1888\t1892\t1896\t1904\t1908\t1912\t1916\t1920\t1924\t1928\t1932\t1936\t1940\t1944\t1948\t1952\t1956\t1960\t1964\t1968\t1972\t1976\t1980\t1984\t1988\t1992\t1996\t"
     ]
    }
   ],
   "source": [
    "print(\"The leap years are:\")\n",
    "for yr in range(1800,2000,1):\n",
    "    if(yr%4==0 and yr%100!=0):\n",
    "        print(yr,end='\\t')"
   ]
  },
  {
   "cell_type": "code",
   "execution_count": null,
   "metadata": {},
   "outputs": [],
   "source": []
  }
 ],
 "metadata": {
  "kernelspec": {
   "display_name": "Python 3",
   "language": "python",
   "name": "python3"
  },
  "language_info": {
   "codemirror_mode": {
    "name": "ipython",
    "version": 3
   },
   "file_extension": ".py",
   "mimetype": "text/x-python",
   "name": "python",
   "nbconvert_exporter": "python",
   "pygments_lexer": "ipython3",
   "version": "3.7.4"
  }
 },
 "nbformat": 4,
 "nbformat_minor": 2
}
