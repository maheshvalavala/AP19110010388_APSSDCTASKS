{
 "cells": [
  {
   "cell_type": "markdown",
   "metadata": {},
   "source": [
    "# TASK"
   ]
  },
  {
   "cell_type": "markdown",
   "metadata": {},
   "source": [
    "* Write a Python program to sum all the items in a list.\n",
    "* Write a Python program to convert a list of characters into a string\n",
    "* program to put even and odd elements in a list into two different lists\n",
    "* Write a Python program to remove duplicates from a list\n",
    "* Write a Python program to check a list is empty or not.\n",
    "* Write a Python program to print a specified list after removing the 0th, 4th and 5th elements.\n",
    "* Write a Python that takes two lists and returns True if they have at least one common member."
   ]
  },
  {
   "cell_type": "code",
   "execution_count": 5,
   "metadata": {},
   "outputs": [
    {
     "name": "stdout",
     "output_type": "stream",
     "text": [
      "Enter no.of Elements: 4\n",
      "1\n",
      "1\n",
      "1\n",
      "1\n",
      "[1, 1, 1, 1]\n",
      "Sum of all the items in a list:  4\n"
     ]
    }
   ],
   "source": [
    "# Write a Python program to sum all the items in a list.\n",
    "\n",
    "l = []\n",
    "n = int(input(\"Enter no.of Elements: \"))\n",
    "for i in range(0,n):\n",
    "    a = int(input())\n",
    "    l.append(a)\n",
    "print(l)\n",
    "sum = 0\n",
    "for j in range(0,len(l)):\n",
    "    sum = sum + l[j]\n",
    "print(\"Sum of all the items in a list: \",sum)"
   ]
  },
  {
   "cell_type": "code",
   "execution_count": 3,
   "metadata": {},
   "outputs": [
    {
     "name": "stdout",
     "output_type": "stream",
     "text": [
      "Enter no.of  character: 4\n",
      "1\n",
      "a\n",
      "e\n",
      "v\n",
      "['1', 'a', 'e', 'v']\n"
     ]
    },
    {
     "data": {
      "text/plain": [
       "'1 a e v'"
      ]
     },
     "execution_count": 3,
     "metadata": {},
     "output_type": "execute_result"
    }
   ],
   "source": [
    "# Write a Python program to convert a list of characters into a string\n",
    "\n",
    "l = []\n",
    "n = int(input(\"Enter no.of  character: \"))\n",
    "for i in range(0,n):\n",
    "    elements = str(input())\n",
    "    l.append(elements)\n",
    "print(l)\n",
    "\" \".join(l)"
   ]
  },
  {
   "cell_type": "code",
   "execution_count": 4,
   "metadata": {},
   "outputs": [
    {
     "name": "stdout",
     "output_type": "stream",
     "text": [
      "Enter no.of elements: 5\n",
      "1\n",
      "2\n",
      "3\n",
      "4\n",
      "5\n",
      "Even List [2, 4]\n",
      "Odd list [1, 3, 5]\n"
     ]
    }
   ],
   "source": [
    "# Program to put even and odd elements in a list into two different lists\n",
    "\n",
    "l = []\n",
    "l1 = []\n",
    "l2 = []\n",
    "n = int(input(\"Enter no.of elements: \"))\n",
    "for i in range(int(n)):\n",
    "    elements = int(input())\n",
    "    l.append(elements)\n",
    "    \n",
    "for i in l:\n",
    "    if i % 2 == 0:\n",
    "        l1.append(i)\n",
    "    else:\n",
    "        l2.append(i)\n",
    "print(\"Even List\",l1)\n",
    "print(\"Odd list\",l2)"
   ]
  },
  {
   "cell_type": "code",
   "execution_count": 7,
   "metadata": {},
   "outputs": [
    {
     "name": "stdout",
     "output_type": "stream",
     "text": [
      "Enter no.of Elements: 9\n",
      "1\n",
      "2\n",
      "3\n",
      "3\n",
      "4\n",
      "3\n",
      "5\n",
      "6\n",
      "6\n",
      "List Before [1, 2, 3, 3, 4, 3, 5, 6, 6]\n",
      "List after removing duplicates:  [1, 2, 3, 4, 5, 6]\n"
     ]
    }
   ],
   "source": [
    "# Write a Python program to remove duplicates from a list\n",
    "\n",
    "l = []\n",
    "n = int(input(\"Enter no.of Elements: \"))\n",
    "for i in range(0,n):\n",
    "    a = int(input())\n",
    "    l.append(a)\n",
    "print(\"List Before\",l)\n",
    "l1 = []\n",
    "for j in l:\n",
    "    if j not in l1:\n",
    "        l1.append(j)\n",
    "\n",
    "print(\"List after removing duplicates: \",l1)"
   ]
  },
  {
   "cell_type": "code",
   "execution_count": 8,
   "metadata": {},
   "outputs": [
    {
     "name": "stdout",
     "output_type": "stream",
     "text": [
      "Empty\n"
     ]
    }
   ],
   "source": [
    "# Write a Python program to check a list is empty or not.\n",
    "arr = []\n",
    "print(\"Empty\" if len(arr) == 0 else \"Not empty\")"
   ]
  },
  {
   "cell_type": "code",
   "execution_count": 9,
   "metadata": {},
   "outputs": [
    {
     "name": "stdout",
     "output_type": "stream",
     "text": [
      "Enter no.of Elements: 1\n",
      "1\n",
      "[1]\n",
      "Not Empty\n"
     ]
    }
   ],
   "source": [
    "l = []\n",
    "n = int(input(\"Enter no.of Elements: \"))\n",
    "for i in range(0,n):\n",
    "    a = int(input())\n",
    "    l.append(a)\n",
    "print(l)\n",
    "if len(l)==0:\n",
    "    print(\"Empty\")\n",
    "else:\n",
    "    print(\"Not Empty\")"
   ]
  },
  {
   "cell_type": "code",
   "execution_count": 3,
   "metadata": {},
   "outputs": [
    {
     "name": "stdout",
     "output_type": "stream",
     "text": [
      "Enter no.of Elements: 8\n",
      "1\n",
      "2\n",
      "2\n",
      "3\n",
      "3\n",
      "3\n",
      "3\n",
      "5\n",
      "Before Removing elements:  [1, 2, 2, 3, 3, 3, 3, 5]\n",
      "After removing 0th,4th and 5th element:  [2, 2, 3, 3, 3]\n"
     ]
    }
   ],
   "source": [
    "# Write a Python program to print a specified list after removing the 0th, 4th and 5th elements.\n",
    "\n",
    "l = []\n",
    "n = int(input(\"Enter no.of Elements: \"))\n",
    "for i in range(0,n):\n",
    "    a = int(input())\n",
    "    l.append(a)\n",
    "print(\"Before Removing elements: \",l)\n",
    "del l[0],l[4],l[5]\n",
    "print(\"After removing 0th,4th and 5th element: \",l)"
   ]
  },
  {
   "cell_type": "code",
   "execution_count": 6,
   "metadata": {},
   "outputs": [
    {
     "name": "stdout",
     "output_type": "stream",
     "text": [
      "Enter no.of elements for list1: 4\n",
      "nagaraju\n",
      "sandhyarani\n",
      "mahesh\n",
      "mounika\n",
      "The entered list1 is:  ['nagaraju', 'sandhyarani', 'mahesh', 'mounika']\n",
      "Enter no.of elements for list2: 4\n",
      "mahesh\n",
      "narasamma\n",
      "harshith\n",
      "datta\n",
      "The entered list2 is:  ['mahesh', 'narasamma', 'harshith', 'datta']\n",
      "True\n",
      "The common elements are:  ['mahesh']\n"
     ]
    }
   ],
   "source": [
    "# Write a Python that takes two lists and returns True if they have at least one common member.\n",
    "\n",
    "l1 = []\n",
    "l2 = []\n",
    "n1 = int(input(\"Enter no.of elements for list1: \"))\n",
    "for i in range(0,n1):\n",
    "    a = str(input())\n",
    "    l1.append(a)\n",
    "print(\"The entered list1 is: \",l1)\n",
    "n2 = int(input(\"Enter no.of elements for list2: \"))\n",
    "for j in range(0,n2):\n",
    "    b = str(input())\n",
    "    l2.append(b)\n",
    "print(\"The entered list2 is: \",l2)\n",
    "l=[]\n",
    "for k in l1:\n",
    "    for m in l2:\n",
    "        if k == m:\n",
    "            l.append(k)\n",
    "            print(\"True\") \n",
    "\n",
    "print(\"The common elements are: \",l)\n"
   ]
  },
  {
   "cell_type": "code",
   "execution_count": null,
   "metadata": {},
   "outputs": [],
   "source": []
  }
 ],
 "metadata": {
  "kernelspec": {
   "display_name": "Python 3",
   "language": "python",
   "name": "python3"
  }
 },
 "nbformat": 4,
 "nbformat_minor": 2
}
