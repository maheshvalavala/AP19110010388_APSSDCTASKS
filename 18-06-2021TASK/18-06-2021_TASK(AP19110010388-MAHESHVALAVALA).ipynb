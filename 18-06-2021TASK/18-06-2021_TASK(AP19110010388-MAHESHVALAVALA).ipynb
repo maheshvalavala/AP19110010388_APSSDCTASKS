{
 "cells": [
  {
   "cell_type": "markdown",
   "metadata": {},
   "source": [
    "# TASK"
   ]
  },
  {
   "cell_type": "markdown",
   "metadata": {},
   "source": [
    "* Write a program for getting the last five lines from the file\n",
    "* Create a function for appending the data into the file\n",
    "* Create a program for updating a word in the file"
   ]
  },
  {
   "cell_type": "markdown",
   "metadata": {},
   "source": [
    "## 1.Write a program for getting the last five lines from the file"
   ]
  },
  {
   "cell_type": "code",
   "execution_count": 3,
   "metadata": {},
   "outputs": [],
   "source": [
    "f = open(\"Task10_1st.txt\",'w')\n",
    "f.write(\" first line. \\n\")\n",
    "f.write(\" Second line. \\n\")\n",
    "f.write(\" Third line. \\n\")\n",
    "f.write(\" Fourth line. \\n\")\n",
    "f.write(\" Fifth line. \\n\")\n",
    "f.write(\" Sixth line. \\n\")\n",
    "f.write(\" Seventh line. \\n\")\n",
    "f.write(\" Eight line. \\n\")\n",
    "f.write(\" Nineth line. \\n\")\n",
    "f.write(\" Tenth line. \\n\")\n",
    "f.close()"
   ]
  },
  {
   "cell_type": "code",
   "execution_count": 4,
   "metadata": {},
   "outputs": [
    {
     "data": {
      "text/plain": [
       "' first line. \\n Second line. \\n Third line. \\n Fourth line. \\n Fifth line. \\n Sixth line. \\n Seventh line. \\n Eight line. \\n Nineth line. \\n Tenth line. \\n'"
      ]
     },
     "execution_count": 4,
     "metadata": {},
     "output_type": "execute_result"
    }
   ],
   "source": [
    "f = open(\"Task10_1st.txt\",'r')\n",
    "f.read()"
   ]
  },
  {
   "cell_type": "code",
   "execution_count": 5,
   "metadata": {},
   "outputs": [
    {
     "name": "stdout",
     "output_type": "stream",
     "text": [
      " Sixth line. \n",
      "\n",
      " Seventh line. \n",
      "\n",
      " Eight line. \n",
      "\n",
      " Nineth line. \n",
      "\n",
      " Tenth line. \n",
      "\n"
     ]
    }
   ],
   "source": [
    "f = open(\"Task10_1st.txt\",'r')\n",
    "for i in (f.readlines()[-5:]):\n",
    "    print(i)"
   ]
  },
  {
   "cell_type": "code",
   "execution_count": 6,
   "metadata": {},
   "outputs": [],
   "source": [
    "f.close()"
   ]
  },
  {
   "cell_type": "markdown",
   "metadata": {},
   "source": [
    "## 2. Create a function for appending the data into the file."
   ]
  },
  {
   "cell_type": "code",
   "execution_count": 7,
   "metadata": {},
   "outputs": [
    {
     "name": "stdout",
     "output_type": "stream",
     "text": [
      "one \n",
      "Two \n",
      "Three \n",
      "Four \n",
      "\n"
     ]
    }
   ],
   "source": [
    "f1 = open('Task10_2nd.txt','w')\n",
    "f1.write(\"one \\n\")\n",
    "f1.write(\"Two \\n\")\n",
    "f1.write(\"Three \\n\")\n",
    "f1.write(\"Four \\n\")\n",
    "f1.close()\n",
    "\n",
    "f1 = open('Task10_2nd.txt')\n",
    "print(f1.read())\n",
    "f1.close()"
   ]
  },
  {
   "cell_type": "code",
   "execution_count": 8,
   "metadata": {},
   "outputs": [],
   "source": [
    "#Method-1:\n",
    "def append_1(text):\n",
    "     with open('Task10_2nd.txt','a') as f1:\n",
    "            text =f1.write(\"Five \\n\")\n",
    "            text = f1.write(\"Six \\n\")\n",
    "\n",
    "append_1(\"Task10_2nd.txt\")"
   ]
  },
  {
   "cell_type": "code",
   "execution_count": 9,
   "metadata": {},
   "outputs": [
    {
     "name": "stdout",
     "output_type": "stream",
     "text": [
      "one \n",
      "Two \n",
      "Three \n",
      "Four \n",
      "Five \n",
      "Six \n",
      "\n"
     ]
    }
   ],
   "source": [
    "f1 = open(\"Task10_2nd.txt\",'r')\n",
    "print(f1.read())\n",
    "f1.close()"
   ]
  },
  {
   "cell_type": "code",
   "execution_count": 10,
   "metadata": {},
   "outputs": [],
   "source": [
    "#Method-2:\n",
    "def append():\n",
    "    f1 = open(\"Task10_2nd.txt\",'a+')\n",
    "    f1.write(\"Seven \\n\")\n",
    "    f1.close()\n",
    "append()"
   ]
  },
  {
   "cell_type": "code",
   "execution_count": 11,
   "metadata": {},
   "outputs": [
    {
     "name": "stdout",
     "output_type": "stream",
     "text": [
      "one \n",
      "Two \n",
      "Three \n",
      "Four \n",
      "Five \n",
      "Six \n",
      "Seven \n",
      "\n"
     ]
    }
   ],
   "source": [
    "f1 = open(\"Task10_2nd.txt\",'r')\n",
    "print(f1.read())\n",
    "f1.close()"
   ]
  },
  {
   "cell_type": "markdown",
   "metadata": {},
   "source": [
    "## 3.Create a program for updating a word in the file"
   ]
  },
  {
   "cell_type": "code",
   "execution_count": 12,
   "metadata": {},
   "outputs": [
    {
     "name": "stdout",
     "output_type": "stream",
     "text": [
      "Hello...!!!   \n",
      "This is Valavala Mahesh  \n",
      "\n"
     ]
    }
   ],
   "source": [
    "import re\n",
    "f = open('Task10_3rd.txt','w')\n",
    "f.write(\"Hello...!!!   \\n\")\n",
    "f.write(\"This is Valavala Mahesh  \\n\")\n",
    "f.close()\n",
    "\n",
    "f = open('Task10_3rd.txt')\n",
    "print(f.read())"
   ]
  },
  {
   "cell_type": "code",
   "execution_count": 15,
   "metadata": {},
   "outputs": [
    {
     "name": "stdout",
     "output_type": "stream",
     "text": [
      "Hello...!!!   \n",
      "This is Mahesh Mahesh  \n",
      "\n"
     ]
    }
   ],
   "source": [
    "with open('Task10_3rd.txt','r+') as f:\n",
    "    text = f.read()\n",
    "    text = re.sub('Valavala','Mahesh',text)\n",
    "    f.seek(0)\n",
    "    f.write(text)\n",
    "    f.truncate()\n",
    "    \n",
    "f = open('Task10_3rd.txt')\n",
    "print(f.read())"
   ]
  },
  {
   "cell_type": "code",
   "execution_count": 16,
   "metadata": {},
   "outputs": [],
   "source": [
    "f.close()"
   ]
  },
  {
   "cell_type": "code",
   "execution_count": null,
   "metadata": {},
   "outputs": [],
   "source": []
  }
 ],
 "metadata": {
  "kernelspec": {
   "display_name": "Python 3",
   "language": "python",
   "name": "python3"
  },
  "language_info": {
   "codemirror_mode": {
    "name": "ipython",
    "version": 3
   },
   "file_extension": ".py",
   "mimetype": "text/x-python",
   "name": "python",
   "nbconvert_exporter": "python",
   "pygments_lexer": "ipython3",
   "version": "3.7.4"
  }
 },
 "nbformat": 4,
 "nbformat_minor": 2
}
