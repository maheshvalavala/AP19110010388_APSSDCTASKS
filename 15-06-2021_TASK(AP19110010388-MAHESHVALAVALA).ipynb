{
 "cells": [
  {
   "cell_type": "markdown",
   "metadata": {},
   "source": [
    "# TASK"
   ]
  },
  {
   "cell_type": "markdown",
   "metadata": {},
   "source": [
    "* create a function for finding the leap years within the given range\n",
    "* Create a function for getting the armstrong numbers within the given range\n",
    "* create a function for getting the prime numbers within the range\n",
    "* Create a function for finding the count of elements in a string. \"Srm university\""
   ]
  },
  {
   "cell_type": "code",
   "execution_count": 7,
   "metadata": {},
   "outputs": [
    {
     "name": "stdout",
     "output_type": "stream",
     "text": [
      "Enter starting year :1800\n",
      "Enter ending year :2000\n",
      "The leap years within the range are :\n",
      "1804 1808 1812 1816 1820 1824 1828 1832 1836 1840 1844 1848 1852 1856 1860 1864 1868 1872 1876 1880 1884 1888 1892 1896 1904 1908 1912 1916 1920 1924 1928 1932 1936 1940 1944 1948 1952 1956 1960 1964 1968 1972 1976 1980 1984 1988 1992 1996 2000 "
     ]
    }
   ],
   "source": [
    "## Create a function for finding the leap years within the given range\n",
    "def leap(s,e):\n",
    "    print(\"The leap years within the range are :\")\n",
    "    for yr in range(s,e+1):\n",
    "        if (yr % 4 == 0 and yr % 100 != 0) or (yr % 400 == 0):\n",
    "            print(yr,end =\" \")\n",
    "s = int(input(\"Enter starting year :\"))\n",
    "e = int(input(\"Enter ending year :\"))\n",
    "leap(s,e)"
   ]
  },
  {
   "cell_type": "code",
   "execution_count": 3,
   "metadata": {},
   "outputs": [
    {
     "name": "stdout",
     "output_type": "stream",
     "text": [
      "Enter starting range :100\n",
      "Enter ending range :500\n",
      "The amstrong numbers within the range are :\n",
      "125\n",
      "153\n",
      "216\n",
      "370\n",
      "371\n",
      "407\n"
     ]
    }
   ],
   "source": [
    "## Create a function for getting the armstrong numbers within the given range\n",
    "def armstrong(s,e):\n",
    "    print(\"The amstrong numbers within the range are :\")\n",
    "    for i in range(s,e+1):\n",
    "        a = 0\n",
    "        t = i\n",
    "        while t>0:\n",
    "            a = a + (t%10) **3\n",
    "            t = t//10\n",
    "            if i == a:\n",
    "                print(i)\n",
    "                   \n",
    "s = int(input(\"Enter starting range :\"))\n",
    "e = int(input(\"Enter ending range :\"))\n",
    "armstrong(s,e)"
   ]
  },
  {
   "cell_type": "code",
   "execution_count": 4,
   "metadata": {},
   "outputs": [
    {
     "name": "stdout",
     "output_type": "stream",
     "text": [
      "Enter starting range :10\n",
      "Enter ending range :100\n",
      "11 13 17 19 23 29 31 37 41 43 47 53 59 61 67 71 73 79 83 89 97 "
     ]
    }
   ],
   "source": [
    "## Create a function for getting the prime numbers within the range\n",
    "## Method-1\n",
    "def prime(s,e):\n",
    "    for n in range(s,e+1):\n",
    "        if all(n%i!=0 for i in range(2,n)):\n",
    "            print(n,end=\" \")\n",
    "s = int(input(\"Enter starting range :\"))\n",
    "e = int(input(\"Enter ending range :\"))\n",
    "prime(s,e)"
   ]
  },
  {
   "cell_type": "code",
   "execution_count": 5,
   "metadata": {},
   "outputs": [
    {
     "name": "stdout",
     "output_type": "stream",
     "text": [
      "Enter starting range :10\n",
      "Enter ending range :100\n",
      "11 13 17 19 23 29 31 37 41 43 47 53 59 61 67 71 73 79 83 89 97 "
     ]
    }
   ],
   "source": [
    "## Method-2\n",
    "def prime(s,e):\n",
    "    \n",
    "    for n in range(s,e+1):\n",
    "        if n >1:\n",
    "            for i in range(2,n):\n",
    "                if (n % i) ==0:\n",
    "                    break\n",
    "            else:\n",
    "                print(n,end=\" \")\n",
    "s = int(input(\"Enter starting range :\"))\n",
    "e = int(input(\"Enter ending range :\"))\n",
    "prime(s,e)"
   ]
  },
  {
   "cell_type": "code",
   "execution_count": 6,
   "metadata": {},
   "outputs": [
    {
     "name": "stdout",
     "output_type": "stream",
     "text": [
      "Enter your string: hello universe\n"
     ]
    },
    {
     "data": {
      "text/plain": [
       "{'h': 1,\n",
       " 'e': 3,\n",
       " 'l': 2,\n",
       " 'o': 1,\n",
       " ' ': 1,\n",
       " 'u': 1,\n",
       " 'n': 1,\n",
       " 'i': 1,\n",
       " 'v': 1,\n",
       " 'r': 1,\n",
       " 's': 1}"
      ]
     },
     "execution_count": 6,
     "metadata": {},
     "output_type": "execute_result"
    }
   ],
   "source": [
    "## Create a function for finding the count of elements in a string.\n",
    "def count():\n",
    "    a=input(\"Enter your string: \")\n",
    "    c = a.lower()\n",
    "    b={}\n",
    "    for i in c:\n",
    "        if i in b:\n",
    "            b[i]=b[i]+1\n",
    "        else:\n",
    "            b[i]=1\n",
    "    return b\n",
    "            \n",
    "count()"
   ]
  },
  {
   "cell_type": "code",
   "execution_count": null,
   "metadata": {},
   "outputs": [],
   "source": []
  }
 ],
 "metadata": {
  "kernelspec": {
   "display_name": "Python 3",
   "language": "python",
   "name": "python3"
  },
  "language_info": {
   "codemirror_mode": {
    "name": "ipython",
    "version": 3
   },
   "file_extension": ".py",
   "mimetype": "text/x-python",
   "name": "python",
   "nbconvert_exporter": "python",
   "pygments_lexer": "ipython3",
   "version": "3.7.4"
  }
 },
 "nbformat": 4,
 "nbformat_minor": 2
}
