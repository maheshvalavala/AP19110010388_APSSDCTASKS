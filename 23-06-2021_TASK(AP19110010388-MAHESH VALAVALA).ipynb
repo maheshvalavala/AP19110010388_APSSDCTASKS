{
 "cells": [
  {
   "cell_type": "markdown",
   "metadata": {},
   "source": [
    "# TASK1"
   ]
  },
  {
   "cell_type": "markdown",
   "metadata": {},
   "source": [
    "## Generate n-table using panda Series"
   ]
  },
  {
   "cell_type": "code",
   "execution_count": 1,
   "metadata": {},
   "outputs": [
    {
     "name": "stdout",
     "output_type": "stream",
     "text": [
      "Enter the number for getting a table: 5\n",
      "1      5\n",
      "2     10\n",
      "3     15\n",
      "4     20\n",
      "5     25\n",
      "6     30\n",
      "7     35\n",
      "8     40\n",
      "9     45\n",
      "10    50\n",
      "dtype: int64\n"
     ]
    }
   ],
   "source": [
    "import pandas as pd\n",
    "import numpy as np\n",
    "n = int(input(\"Enter the number for getting a table: \"))\n",
    "l = [i for i in range(n, (n*10)+1, n)]\n",
    "s = pd.Series(l, index=np.arange(1,11))\n",
    "print(s)"
   ]
  },
  {
   "cell_type": "markdown",
   "metadata": {},
   "source": [
    "## Ex1 - Getting and knowing your Data\n",
    "### Step 1. Go to Dataset_link\n",
    "* There are many kinds of birds: pigeons, ducks, ostriches, penguins… Some are good at flying, others can't fly but run fast. Some swim under water, others wading in shallow pool.\n",
    "\n",
    "* According to their living environments and living habits, birds are classified into different ecological groups. There are 6 ecological groups of birds:\n",
    "\n",
    "* Swimming Birds\n",
    "* Wading Birds\n",
    "* Terrestrial Birds\n",
    "* Raptors\n",
    "* Scansorial Birds\n",
    "* Singing Birds\n",
    "### Step 2. Download the dataset to your computer and unzip it.\n",
    "### Step 3. Use the Csv file and assign it to a dataframe called birds"
   ]
  },
  {
   "cell_type": "code",
   "execution_count": 2,
   "metadata": {},
   "outputs": [
    {
     "data": {
      "text/html": [
       "<div>\n",
       "<style scoped>\n",
       "    .dataframe tbody tr th:only-of-type {\n",
       "        vertical-align: middle;\n",
       "    }\n",
       "\n",
       "    .dataframe tbody tr th {\n",
       "        vertical-align: top;\n",
       "    }\n",
       "\n",
       "    .dataframe thead th {\n",
       "        text-align: right;\n",
       "    }\n",
       "</style>\n",
       "<table border=\"1\" class=\"dataframe\">\n",
       "  <thead>\n",
       "    <tr style=\"text-align: right;\">\n",
       "      <th></th>\n",
       "      <th>id</th>\n",
       "      <th>huml</th>\n",
       "      <th>humw</th>\n",
       "      <th>ulnal</th>\n",
       "      <th>ulnaw</th>\n",
       "      <th>feml</th>\n",
       "      <th>femw</th>\n",
       "      <th>tibl</th>\n",
       "      <th>tibw</th>\n",
       "      <th>tarl</th>\n",
       "      <th>tarw</th>\n",
       "      <th>type</th>\n",
       "    </tr>\n",
       "  </thead>\n",
       "  <tbody>\n",
       "    <tr>\n",
       "      <td>0</td>\n",
       "      <td>0</td>\n",
       "      <td>80.78</td>\n",
       "      <td>6.68</td>\n",
       "      <td>72.01</td>\n",
       "      <td>4.88</td>\n",
       "      <td>41.81</td>\n",
       "      <td>3.70</td>\n",
       "      <td>5.50</td>\n",
       "      <td>4.03</td>\n",
       "      <td>38.70</td>\n",
       "      <td>3.84</td>\n",
       "      <td>SW</td>\n",
       "    </tr>\n",
       "    <tr>\n",
       "      <td>1</td>\n",
       "      <td>1</td>\n",
       "      <td>88.91</td>\n",
       "      <td>6.63</td>\n",
       "      <td>80.53</td>\n",
       "      <td>5.59</td>\n",
       "      <td>47.04</td>\n",
       "      <td>4.30</td>\n",
       "      <td>80.22</td>\n",
       "      <td>4.51</td>\n",
       "      <td>41.50</td>\n",
       "      <td>4.01</td>\n",
       "      <td>SW</td>\n",
       "    </tr>\n",
       "    <tr>\n",
       "      <td>2</td>\n",
       "      <td>2</td>\n",
       "      <td>79.97</td>\n",
       "      <td>6.37</td>\n",
       "      <td>69.26</td>\n",
       "      <td>5.28</td>\n",
       "      <td>43.07</td>\n",
       "      <td>3.90</td>\n",
       "      <td>75.35</td>\n",
       "      <td>4.04</td>\n",
       "      <td>38.31</td>\n",
       "      <td>3.34</td>\n",
       "      <td>SW</td>\n",
       "    </tr>\n",
       "    <tr>\n",
       "      <td>3</td>\n",
       "      <td>3</td>\n",
       "      <td>77.65</td>\n",
       "      <td>5.70</td>\n",
       "      <td>65.76</td>\n",
       "      <td>4.77</td>\n",
       "      <td>40.04</td>\n",
       "      <td>3.52</td>\n",
       "      <td>69.17</td>\n",
       "      <td>3.40</td>\n",
       "      <td>35.78</td>\n",
       "      <td>3.41</td>\n",
       "      <td>SW</td>\n",
       "    </tr>\n",
       "    <tr>\n",
       "      <td>4</td>\n",
       "      <td>4</td>\n",
       "      <td>62.80</td>\n",
       "      <td>4.84</td>\n",
       "      <td>52.09</td>\n",
       "      <td>3.73</td>\n",
       "      <td>33.95</td>\n",
       "      <td>2.72</td>\n",
       "      <td>56.27</td>\n",
       "      <td>2.96</td>\n",
       "      <td>31.88</td>\n",
       "      <td>3.13</td>\n",
       "      <td>SW</td>\n",
       "    </tr>\n",
       "    <tr>\n",
       "      <td>...</td>\n",
       "      <td>...</td>\n",
       "      <td>...</td>\n",
       "      <td>...</td>\n",
       "      <td>...</td>\n",
       "      <td>...</td>\n",
       "      <td>...</td>\n",
       "      <td>...</td>\n",
       "      <td>...</td>\n",
       "      <td>...</td>\n",
       "      <td>...</td>\n",
       "      <td>...</td>\n",
       "      <td>...</td>\n",
       "    </tr>\n",
       "    <tr>\n",
       "      <td>415</td>\n",
       "      <td>415</td>\n",
       "      <td>17.96</td>\n",
       "      <td>1.63</td>\n",
       "      <td>19.25</td>\n",
       "      <td>1.33</td>\n",
       "      <td>18.36</td>\n",
       "      <td>1.54</td>\n",
       "      <td>31.25</td>\n",
       "      <td>1.33</td>\n",
       "      <td>21.99</td>\n",
       "      <td>1.15</td>\n",
       "      <td>SO</td>\n",
       "    </tr>\n",
       "    <tr>\n",
       "      <td>416</td>\n",
       "      <td>416</td>\n",
       "      <td>19.21</td>\n",
       "      <td>1.64</td>\n",
       "      <td>20.76</td>\n",
       "      <td>1.49</td>\n",
       "      <td>19.24</td>\n",
       "      <td>1.45</td>\n",
       "      <td>33.21</td>\n",
       "      <td>1.28</td>\n",
       "      <td>23.60</td>\n",
       "      <td>1.15</td>\n",
       "      <td>SO</td>\n",
       "    </tr>\n",
       "    <tr>\n",
       "      <td>417</td>\n",
       "      <td>417</td>\n",
       "      <td>18.79</td>\n",
       "      <td>1.63</td>\n",
       "      <td>19.83</td>\n",
       "      <td>1.53</td>\n",
       "      <td>20.96</td>\n",
       "      <td>1.43</td>\n",
       "      <td>34.45</td>\n",
       "      <td>1.41</td>\n",
       "      <td>22.86</td>\n",
       "      <td>1.21</td>\n",
       "      <td>SO</td>\n",
       "    </tr>\n",
       "    <tr>\n",
       "      <td>418</td>\n",
       "      <td>418</td>\n",
       "      <td>20.38</td>\n",
       "      <td>1.78</td>\n",
       "      <td>22.53</td>\n",
       "      <td>1.50</td>\n",
       "      <td>21.35</td>\n",
       "      <td>1.48</td>\n",
       "      <td>36.09</td>\n",
       "      <td>1.53</td>\n",
       "      <td>25.98</td>\n",
       "      <td>1.24</td>\n",
       "      <td>SO</td>\n",
       "    </tr>\n",
       "    <tr>\n",
       "      <td>419</td>\n",
       "      <td>419</td>\n",
       "      <td>17.89</td>\n",
       "      <td>1.44</td>\n",
       "      <td>19.26</td>\n",
       "      <td>1.10</td>\n",
       "      <td>17.62</td>\n",
       "      <td>1.34</td>\n",
       "      <td>29.81</td>\n",
       "      <td>1.24</td>\n",
       "      <td>21.69</td>\n",
       "      <td>1.05</td>\n",
       "      <td>SO</td>\n",
       "    </tr>\n",
       "  </tbody>\n",
       "</table>\n",
       "<p>420 rows × 12 columns</p>\n",
       "</div>"
      ],
      "text/plain": [
       "      id   huml  humw  ulnal  ulnaw   feml  femw   tibl  tibw   tarl  tarw  \\\n",
       "0      0  80.78  6.68  72.01   4.88  41.81  3.70   5.50  4.03  38.70  3.84   \n",
       "1      1  88.91  6.63  80.53   5.59  47.04  4.30  80.22  4.51  41.50  4.01   \n",
       "2      2  79.97  6.37  69.26   5.28  43.07  3.90  75.35  4.04  38.31  3.34   \n",
       "3      3  77.65  5.70  65.76   4.77  40.04  3.52  69.17  3.40  35.78  3.41   \n",
       "4      4  62.80  4.84  52.09   3.73  33.95  2.72  56.27  2.96  31.88  3.13   \n",
       "..   ...    ...   ...    ...    ...    ...   ...    ...   ...    ...   ...   \n",
       "415  415  17.96  1.63  19.25   1.33  18.36  1.54  31.25  1.33  21.99  1.15   \n",
       "416  416  19.21  1.64  20.76   1.49  19.24  1.45  33.21  1.28  23.60  1.15   \n",
       "417  417  18.79  1.63  19.83   1.53  20.96  1.43  34.45  1.41  22.86  1.21   \n",
       "418  418  20.38  1.78  22.53   1.50  21.35  1.48  36.09  1.53  25.98  1.24   \n",
       "419  419  17.89  1.44  19.26   1.10  17.62  1.34  29.81  1.24  21.69  1.05   \n",
       "\n",
       "    type  \n",
       "0     SW  \n",
       "1     SW  \n",
       "2     SW  \n",
       "3     SW  \n",
       "4     SW  \n",
       "..   ...  \n",
       "415   SO  \n",
       "416   SO  \n",
       "417   SO  \n",
       "418   SO  \n",
       "419   SO  \n",
       "\n",
       "[420 rows x 12 columns]"
      ]
     },
     "execution_count": 2,
     "metadata": {},
     "output_type": "execute_result"
    }
   ],
   "source": [
    "import pandas as pd\n",
    "df = pd.read_csv(\"bird.csv\")\n",
    "df"
   ]
  },
  {
   "cell_type": "markdown",
   "metadata": {},
   "source": [
    "### Step 4. See the random 5 entries"
   ]
  },
  {
   "cell_type": "code",
   "execution_count": 3,
   "metadata": {},
   "outputs": [
    {
     "data": {
      "text/html": [
       "<div>\n",
       "<style scoped>\n",
       "    .dataframe tbody tr th:only-of-type {\n",
       "        vertical-align: middle;\n",
       "    }\n",
       "\n",
       "    .dataframe tbody tr th {\n",
       "        vertical-align: top;\n",
       "    }\n",
       "\n",
       "    .dataframe thead th {\n",
       "        text-align: right;\n",
       "    }\n",
       "</style>\n",
       "<table border=\"1\" class=\"dataframe\">\n",
       "  <thead>\n",
       "    <tr style=\"text-align: right;\">\n",
       "      <th></th>\n",
       "      <th>id</th>\n",
       "      <th>huml</th>\n",
       "      <th>humw</th>\n",
       "      <th>ulnal</th>\n",
       "      <th>ulnaw</th>\n",
       "      <th>feml</th>\n",
       "      <th>femw</th>\n",
       "      <th>tibl</th>\n",
       "      <th>tibw</th>\n",
       "      <th>tarl</th>\n",
       "      <th>tarw</th>\n",
       "      <th>type</th>\n",
       "    </tr>\n",
       "  </thead>\n",
       "  <tbody>\n",
       "    <tr>\n",
       "      <td>393</td>\n",
       "      <td>393</td>\n",
       "      <td>18.97</td>\n",
       "      <td>1.58</td>\n",
       "      <td>21.26</td>\n",
       "      <td>1.40</td>\n",
       "      <td>21.50</td>\n",
       "      <td>1.55</td>\n",
       "      <td>36.52</td>\n",
       "      <td>1.52</td>\n",
       "      <td>25.04</td>\n",
       "      <td>1.47</td>\n",
       "      <td>SO</td>\n",
       "    </tr>\n",
       "    <tr>\n",
       "      <td>188</td>\n",
       "      <td>188</td>\n",
       "      <td>30.97</td>\n",
       "      <td>3.65</td>\n",
       "      <td>36.47</td>\n",
       "      <td>2.96</td>\n",
       "      <td>28.03</td>\n",
       "      <td>2.21</td>\n",
       "      <td>37.41</td>\n",
       "      <td>1.99</td>\n",
       "      <td>21.11</td>\n",
       "      <td>2.25</td>\n",
       "      <td>T</td>\n",
       "    </tr>\n",
       "    <tr>\n",
       "      <td>298</td>\n",
       "      <td>298</td>\n",
       "      <td>41.19</td>\n",
       "      <td>3.78</td>\n",
       "      <td>43.24</td>\n",
       "      <td>2.91</td>\n",
       "      <td>39.61</td>\n",
       "      <td>3.15</td>\n",
       "      <td>64.68</td>\n",
       "      <td>2.99</td>\n",
       "      <td>46.74</td>\n",
       "      <td>2.54</td>\n",
       "      <td>SO</td>\n",
       "    </tr>\n",
       "    <tr>\n",
       "      <td>32</td>\n",
       "      <td>32</td>\n",
       "      <td>188.00</td>\n",
       "      <td>11.35</td>\n",
       "      <td>250.00</td>\n",
       "      <td>9.64</td>\n",
       "      <td>52.49</td>\n",
       "      <td>7.60</td>\n",
       "      <td>69.06</td>\n",
       "      <td>5.13</td>\n",
       "      <td>19.52</td>\n",
       "      <td>6.51</td>\n",
       "      <td>SW</td>\n",
       "    </tr>\n",
       "    <tr>\n",
       "      <td>361</td>\n",
       "      <td>361</td>\n",
       "      <td>20.08</td>\n",
       "      <td>2.07</td>\n",
       "      <td>25.78</td>\n",
       "      <td>1.81</td>\n",
       "      <td>20.43</td>\n",
       "      <td>1.62</td>\n",
       "      <td>38.30</td>\n",
       "      <td>1.35</td>\n",
       "      <td>30.25</td>\n",
       "      <td>1.09</td>\n",
       "      <td>SO</td>\n",
       "    </tr>\n",
       "  </tbody>\n",
       "</table>\n",
       "</div>"
      ],
      "text/plain": [
       "      id    huml   humw   ulnal  ulnaw   feml  femw   tibl  tibw   tarl  tarw  \\\n",
       "393  393   18.97   1.58   21.26   1.40  21.50  1.55  36.52  1.52  25.04  1.47   \n",
       "188  188   30.97   3.65   36.47   2.96  28.03  2.21  37.41  1.99  21.11  2.25   \n",
       "298  298   41.19   3.78   43.24   2.91  39.61  3.15  64.68  2.99  46.74  2.54   \n",
       "32    32  188.00  11.35  250.00   9.64  52.49  7.60  69.06  5.13  19.52  6.51   \n",
       "361  361   20.08   2.07   25.78   1.81  20.43  1.62  38.30  1.35  30.25  1.09   \n",
       "\n",
       "    type  \n",
       "393   SO  \n",
       "188    T  \n",
       "298   SO  \n",
       "32    SW  \n",
       "361   SO  "
      ]
     },
     "execution_count": 3,
     "metadata": {},
     "output_type": "execute_result"
    }
   ],
   "source": [
    "df.sample(5)\n"
   ]
  },
  {
   "cell_type": "markdown",
   "metadata": {},
   "source": [
    "### Step 5. What is the number of observations in the dataset?"
   ]
  },
  {
   "cell_type": "code",
   "execution_count": 4,
   "metadata": {},
   "outputs": [
    {
     "data": {
      "text/plain": [
       "5025"
      ]
     },
     "execution_count": 4,
     "metadata": {},
     "output_type": "execute_result"
    }
   ],
   "source": [
    "df.count().sum()"
   ]
  },
  {
   "cell_type": "markdown",
   "metadata": {},
   "source": [
    "### Step 6. What is the number of columns in the dataset?"
   ]
  },
  {
   "cell_type": "code",
   "execution_count": 5,
   "metadata": {},
   "outputs": [
    {
     "data": {
      "text/plain": [
       "12"
      ]
     },
     "execution_count": 5,
     "metadata": {},
     "output_type": "execute_result"
    }
   ],
   "source": [
    "len(df.columns)"
   ]
  },
  {
   "cell_type": "markdown",
   "metadata": {},
   "source": [
    "### Step 7. Print the name of all the columns."
   ]
  },
  {
   "cell_type": "code",
   "execution_count": 6,
   "metadata": {},
   "outputs": [
    {
     "data": {
      "text/plain": [
       "Index(['id', 'huml', 'humw', 'ulnal', 'ulnaw', 'feml', 'femw', 'tibl', 'tibw',\n",
       "       'tarl', 'tarw', 'type'],\n",
       "      dtype='object')"
      ]
     },
     "execution_count": 6,
     "metadata": {},
     "output_type": "execute_result"
    }
   ],
   "source": [
    "df.columns"
   ]
  },
  {
   "cell_type": "markdown",
   "metadata": {},
   "source": [
    "### Step 8. What is the name of 10th column?"
   ]
  },
  {
   "cell_type": "code",
   "execution_count": 7,
   "metadata": {},
   "outputs": [
    {
     "data": {
      "text/plain": [
       "'tarl'"
      ]
     },
     "execution_count": 7,
     "metadata": {},
     "output_type": "execute_result"
    }
   ],
   "source": [
    "df.columns[9]\n"
   ]
  },
  {
   "cell_type": "markdown",
   "metadata": {},
   "source": [
    "### Step 9. What is the type of the observations of the 2th column?"
   ]
  },
  {
   "cell_type": "code",
   "execution_count": 8,
   "metadata": {},
   "outputs": [
    {
     "data": {
      "text/plain": [
       "dtype('float64')"
      ]
     },
     "execution_count": 8,
     "metadata": {},
     "output_type": "execute_result"
    }
   ],
   "source": [
    "df['huml'].dtype\n"
   ]
  },
  {
   "cell_type": "code",
   "execution_count": 9,
   "metadata": {},
   "outputs": [
    {
     "data": {
      "text/plain": [
       "dtype('float64')"
      ]
     },
     "execution_count": 9,
     "metadata": {},
     "output_type": "execute_result"
    }
   ],
   "source": [
    "df.dtypes[1]\n"
   ]
  },
  {
   "cell_type": "code",
   "execution_count": 10,
   "metadata": {},
   "outputs": [
    {
     "data": {
      "text/plain": [
       "pandas.core.series.Series"
      ]
     },
     "execution_count": 10,
     "metadata": {},
     "output_type": "execute_result"
    }
   ],
   "source": [
    "type(df.iloc[1])\n"
   ]
  },
  {
   "cell_type": "markdown",
   "metadata": {},
   "source": [
    "### Step 10. How is the dataset indexed?"
   ]
  },
  {
   "cell_type": "code",
   "execution_count": 11,
   "metadata": {},
   "outputs": [
    {
     "data": {
      "text/plain": [
       "RangeIndex(start=0, stop=420, step=1)"
      ]
     },
     "execution_count": 11,
     "metadata": {},
     "output_type": "execute_result"
    }
   ],
   "source": [
    "df.index\n"
   ]
  },
  {
   "cell_type": "markdown",
   "metadata": {},
   "source": [
    "### Step 11. Set the 'type' colum as the index of the dataframe"
   ]
  },
  {
   "cell_type": "code",
   "execution_count": 12,
   "metadata": {},
   "outputs": [
    {
     "data": {
      "text/html": [
       "<div>\n",
       "<style scoped>\n",
       "    .dataframe tbody tr th:only-of-type {\n",
       "        vertical-align: middle;\n",
       "    }\n",
       "\n",
       "    .dataframe tbody tr th {\n",
       "        vertical-align: top;\n",
       "    }\n",
       "\n",
       "    .dataframe thead th {\n",
       "        text-align: right;\n",
       "    }\n",
       "</style>\n",
       "<table border=\"1\" class=\"dataframe\">\n",
       "  <thead>\n",
       "    <tr style=\"text-align: right;\">\n",
       "      <th></th>\n",
       "      <th>id</th>\n",
       "      <th>huml</th>\n",
       "      <th>humw</th>\n",
       "      <th>ulnal</th>\n",
       "      <th>ulnaw</th>\n",
       "      <th>feml</th>\n",
       "      <th>femw</th>\n",
       "      <th>tibl</th>\n",
       "      <th>tibw</th>\n",
       "      <th>tarl</th>\n",
       "      <th>tarw</th>\n",
       "    </tr>\n",
       "    <tr>\n",
       "      <th>type</th>\n",
       "      <th></th>\n",
       "      <th></th>\n",
       "      <th></th>\n",
       "      <th></th>\n",
       "      <th></th>\n",
       "      <th></th>\n",
       "      <th></th>\n",
       "      <th></th>\n",
       "      <th></th>\n",
       "      <th></th>\n",
       "      <th></th>\n",
       "    </tr>\n",
       "  </thead>\n",
       "  <tbody>\n",
       "    <tr>\n",
       "      <td>SW</td>\n",
       "      <td>0</td>\n",
       "      <td>80.78</td>\n",
       "      <td>6.68</td>\n",
       "      <td>72.01</td>\n",
       "      <td>4.88</td>\n",
       "      <td>41.81</td>\n",
       "      <td>3.70</td>\n",
       "      <td>5.50</td>\n",
       "      <td>4.03</td>\n",
       "      <td>38.70</td>\n",
       "      <td>3.84</td>\n",
       "    </tr>\n",
       "    <tr>\n",
       "      <td>SW</td>\n",
       "      <td>1</td>\n",
       "      <td>88.91</td>\n",
       "      <td>6.63</td>\n",
       "      <td>80.53</td>\n",
       "      <td>5.59</td>\n",
       "      <td>47.04</td>\n",
       "      <td>4.30</td>\n",
       "      <td>80.22</td>\n",
       "      <td>4.51</td>\n",
       "      <td>41.50</td>\n",
       "      <td>4.01</td>\n",
       "    </tr>\n",
       "    <tr>\n",
       "      <td>SW</td>\n",
       "      <td>2</td>\n",
       "      <td>79.97</td>\n",
       "      <td>6.37</td>\n",
       "      <td>69.26</td>\n",
       "      <td>5.28</td>\n",
       "      <td>43.07</td>\n",
       "      <td>3.90</td>\n",
       "      <td>75.35</td>\n",
       "      <td>4.04</td>\n",
       "      <td>38.31</td>\n",
       "      <td>3.34</td>\n",
       "    </tr>\n",
       "    <tr>\n",
       "      <td>SW</td>\n",
       "      <td>3</td>\n",
       "      <td>77.65</td>\n",
       "      <td>5.70</td>\n",
       "      <td>65.76</td>\n",
       "      <td>4.77</td>\n",
       "      <td>40.04</td>\n",
       "      <td>3.52</td>\n",
       "      <td>69.17</td>\n",
       "      <td>3.40</td>\n",
       "      <td>35.78</td>\n",
       "      <td>3.41</td>\n",
       "    </tr>\n",
       "    <tr>\n",
       "      <td>SW</td>\n",
       "      <td>4</td>\n",
       "      <td>62.80</td>\n",
       "      <td>4.84</td>\n",
       "      <td>52.09</td>\n",
       "      <td>3.73</td>\n",
       "      <td>33.95</td>\n",
       "      <td>2.72</td>\n",
       "      <td>56.27</td>\n",
       "      <td>2.96</td>\n",
       "      <td>31.88</td>\n",
       "      <td>3.13</td>\n",
       "    </tr>\n",
       "    <tr>\n",
       "      <td>...</td>\n",
       "      <td>...</td>\n",
       "      <td>...</td>\n",
       "      <td>...</td>\n",
       "      <td>...</td>\n",
       "      <td>...</td>\n",
       "      <td>...</td>\n",
       "      <td>...</td>\n",
       "      <td>...</td>\n",
       "      <td>...</td>\n",
       "      <td>...</td>\n",
       "      <td>...</td>\n",
       "    </tr>\n",
       "    <tr>\n",
       "      <td>SO</td>\n",
       "      <td>415</td>\n",
       "      <td>17.96</td>\n",
       "      <td>1.63</td>\n",
       "      <td>19.25</td>\n",
       "      <td>1.33</td>\n",
       "      <td>18.36</td>\n",
       "      <td>1.54</td>\n",
       "      <td>31.25</td>\n",
       "      <td>1.33</td>\n",
       "      <td>21.99</td>\n",
       "      <td>1.15</td>\n",
       "    </tr>\n",
       "    <tr>\n",
       "      <td>SO</td>\n",
       "      <td>416</td>\n",
       "      <td>19.21</td>\n",
       "      <td>1.64</td>\n",
       "      <td>20.76</td>\n",
       "      <td>1.49</td>\n",
       "      <td>19.24</td>\n",
       "      <td>1.45</td>\n",
       "      <td>33.21</td>\n",
       "      <td>1.28</td>\n",
       "      <td>23.60</td>\n",
       "      <td>1.15</td>\n",
       "    </tr>\n",
       "    <tr>\n",
       "      <td>SO</td>\n",
       "      <td>417</td>\n",
       "      <td>18.79</td>\n",
       "      <td>1.63</td>\n",
       "      <td>19.83</td>\n",
       "      <td>1.53</td>\n",
       "      <td>20.96</td>\n",
       "      <td>1.43</td>\n",
       "      <td>34.45</td>\n",
       "      <td>1.41</td>\n",
       "      <td>22.86</td>\n",
       "      <td>1.21</td>\n",
       "    </tr>\n",
       "    <tr>\n",
       "      <td>SO</td>\n",
       "      <td>418</td>\n",
       "      <td>20.38</td>\n",
       "      <td>1.78</td>\n",
       "      <td>22.53</td>\n",
       "      <td>1.50</td>\n",
       "      <td>21.35</td>\n",
       "      <td>1.48</td>\n",
       "      <td>36.09</td>\n",
       "      <td>1.53</td>\n",
       "      <td>25.98</td>\n",
       "      <td>1.24</td>\n",
       "    </tr>\n",
       "    <tr>\n",
       "      <td>SO</td>\n",
       "      <td>419</td>\n",
       "      <td>17.89</td>\n",
       "      <td>1.44</td>\n",
       "      <td>19.26</td>\n",
       "      <td>1.10</td>\n",
       "      <td>17.62</td>\n",
       "      <td>1.34</td>\n",
       "      <td>29.81</td>\n",
       "      <td>1.24</td>\n",
       "      <td>21.69</td>\n",
       "      <td>1.05</td>\n",
       "    </tr>\n",
       "  </tbody>\n",
       "</table>\n",
       "<p>420 rows × 11 columns</p>\n",
       "</div>"
      ],
      "text/plain": [
       "       id   huml  humw  ulnal  ulnaw   feml  femw   tibl  tibw   tarl  tarw\n",
       "type                                                                       \n",
       "SW      0  80.78  6.68  72.01   4.88  41.81  3.70   5.50  4.03  38.70  3.84\n",
       "SW      1  88.91  6.63  80.53   5.59  47.04  4.30  80.22  4.51  41.50  4.01\n",
       "SW      2  79.97  6.37  69.26   5.28  43.07  3.90  75.35  4.04  38.31  3.34\n",
       "SW      3  77.65  5.70  65.76   4.77  40.04  3.52  69.17  3.40  35.78  3.41\n",
       "SW      4  62.80  4.84  52.09   3.73  33.95  2.72  56.27  2.96  31.88  3.13\n",
       "...   ...    ...   ...    ...    ...    ...   ...    ...   ...    ...   ...\n",
       "SO    415  17.96  1.63  19.25   1.33  18.36  1.54  31.25  1.33  21.99  1.15\n",
       "SO    416  19.21  1.64  20.76   1.49  19.24  1.45  33.21  1.28  23.60  1.15\n",
       "SO    417  18.79  1.63  19.83   1.53  20.96  1.43  34.45  1.41  22.86  1.21\n",
       "SO    418  20.38  1.78  22.53   1.50  21.35  1.48  36.09  1.53  25.98  1.24\n",
       "SO    419  17.89  1.44  19.26   1.10  17.62  1.34  29.81  1.24  21.69  1.05\n",
       "\n",
       "[420 rows x 11 columns]"
      ]
     },
     "execution_count": 12,
     "metadata": {},
     "output_type": "execute_result"
    }
   ],
   "source": [
    "df.set_index('type')\n"
   ]
  },
  {
   "cell_type": "markdown",
   "metadata": {},
   "source": [
    "### Step 12. Print only the column huml"
   ]
  },
  {
   "cell_type": "code",
   "execution_count": 13,
   "metadata": {},
   "outputs": [
    {
     "data": {
      "text/html": [
       "<div>\n",
       "<style scoped>\n",
       "    .dataframe tbody tr th:only-of-type {\n",
       "        vertical-align: middle;\n",
       "    }\n",
       "\n",
       "    .dataframe tbody tr th {\n",
       "        vertical-align: top;\n",
       "    }\n",
       "\n",
       "    .dataframe thead th {\n",
       "        text-align: right;\n",
       "    }\n",
       "</style>\n",
       "<table border=\"1\" class=\"dataframe\">\n",
       "  <thead>\n",
       "    <tr style=\"text-align: right;\">\n",
       "      <th></th>\n",
       "      <th>huml</th>\n",
       "    </tr>\n",
       "  </thead>\n",
       "  <tbody>\n",
       "    <tr>\n",
       "      <td>0</td>\n",
       "      <td>80.78</td>\n",
       "    </tr>\n",
       "    <tr>\n",
       "      <td>1</td>\n",
       "      <td>88.91</td>\n",
       "    </tr>\n",
       "    <tr>\n",
       "      <td>2</td>\n",
       "      <td>79.97</td>\n",
       "    </tr>\n",
       "    <tr>\n",
       "      <td>3</td>\n",
       "      <td>77.65</td>\n",
       "    </tr>\n",
       "    <tr>\n",
       "      <td>4</td>\n",
       "      <td>62.80</td>\n",
       "    </tr>\n",
       "    <tr>\n",
       "      <td>...</td>\n",
       "      <td>...</td>\n",
       "    </tr>\n",
       "    <tr>\n",
       "      <td>415</td>\n",
       "      <td>17.96</td>\n",
       "    </tr>\n",
       "    <tr>\n",
       "      <td>416</td>\n",
       "      <td>19.21</td>\n",
       "    </tr>\n",
       "    <tr>\n",
       "      <td>417</td>\n",
       "      <td>18.79</td>\n",
       "    </tr>\n",
       "    <tr>\n",
       "      <td>418</td>\n",
       "      <td>20.38</td>\n",
       "    </tr>\n",
       "    <tr>\n",
       "      <td>419</td>\n",
       "      <td>17.89</td>\n",
       "    </tr>\n",
       "  </tbody>\n",
       "</table>\n",
       "<p>420 rows × 1 columns</p>\n",
       "</div>"
      ],
      "text/plain": [
       "      huml\n",
       "0    80.78\n",
       "1    88.91\n",
       "2    79.97\n",
       "3    77.65\n",
       "4    62.80\n",
       "..     ...\n",
       "415  17.96\n",
       "416  19.21\n",
       "417  18.79\n",
       "418  20.38\n",
       "419  17.89\n",
       "\n",
       "[420 rows x 1 columns]"
      ]
     },
     "execution_count": 13,
     "metadata": {},
     "output_type": "execute_result"
    }
   ],
   "source": [
    "df[['huml']]\n"
   ]
  },
  {
   "cell_type": "markdown",
   "metadata": {},
   "source": [
    "### Step 13. Print the \"huml\",\"humw\" columns from SW and P"
   ]
  },
  {
   "cell_type": "code",
   "execution_count": 14,
   "metadata": {},
   "outputs": [
    {
     "data": {
      "text/plain": [
       "((0       True\n",
       "  1       True\n",
       "  2       True\n",
       "  3       True\n",
       "  4       True\n",
       "         ...  \n",
       "  415    False\n",
       "  416    False\n",
       "  417    False\n",
       "  418    False\n",
       "  419    False\n",
       "  Name: type, Length: 420, dtype: bool, 0      False\n",
       "  1      False\n",
       "  2      False\n",
       "  3      False\n",
       "  4      False\n",
       "         ...  \n",
       "  415    False\n",
       "  416    False\n",
       "  417    False\n",
       "  418    False\n",
       "  419    False\n",
       "  Name: type, Length: 420, dtype: bool), (0      80.78\n",
       "  1      88.91\n",
       "  2      79.97\n",
       "  3      77.65\n",
       "  4      62.80\n",
       "         ...  \n",
       "  415    17.96\n",
       "  416    19.21\n",
       "  417    18.79\n",
       "  418    20.38\n",
       "  419    17.89\n",
       "  Name: huml, Length: 420, dtype: float64, 0      6.68\n",
       "  1      6.63\n",
       "  2      6.37\n",
       "  3      5.70\n",
       "  4      4.84\n",
       "         ... \n",
       "  415    1.63\n",
       "  416    1.64\n",
       "  417    1.63\n",
       "  418    1.78\n",
       "  419    1.44\n",
       "  Name: humw, Length: 420, dtype: float64))"
      ]
     },
     "execution_count": 14,
     "metadata": {},
     "output_type": "execute_result"
    }
   ],
   "source": [
    "(df[\"type\"]==\"SW\", df[\"type\"]==\"P\") , (df['huml'], df['humw'])\n"
   ]
  },
  {
   "cell_type": "markdown",
   "metadata": {},
   "source": [
    "### Step 14. Select the rows 3 to 7 and the columns 3 to 6"
   ]
  },
  {
   "cell_type": "code",
   "execution_count": 15,
   "metadata": {},
   "outputs": [
    {
     "data": {
      "text/html": [
       "<div>\n",
       "<style scoped>\n",
       "    .dataframe tbody tr th:only-of-type {\n",
       "        vertical-align: middle;\n",
       "    }\n",
       "\n",
       "    .dataframe tbody tr th {\n",
       "        vertical-align: top;\n",
       "    }\n",
       "\n",
       "    .dataframe thead th {\n",
       "        text-align: right;\n",
       "    }\n",
       "</style>\n",
       "<table border=\"1\" class=\"dataframe\">\n",
       "  <thead>\n",
       "    <tr style=\"text-align: right;\">\n",
       "      <th></th>\n",
       "      <th>ulnal</th>\n",
       "      <th>ulnaw</th>\n",
       "      <th>feml</th>\n",
       "      <th>femw</th>\n",
       "    </tr>\n",
       "  </thead>\n",
       "  <tbody>\n",
       "    <tr>\n",
       "      <td>3</td>\n",
       "      <td>65.76</td>\n",
       "      <td>4.77</td>\n",
       "      <td>40.04</td>\n",
       "      <td>3.52</td>\n",
       "    </tr>\n",
       "    <tr>\n",
       "      <td>4</td>\n",
       "      <td>52.09</td>\n",
       "      <td>3.73</td>\n",
       "      <td>33.95</td>\n",
       "      <td>2.72</td>\n",
       "    </tr>\n",
       "    <tr>\n",
       "      <td>5</td>\n",
       "      <td>50.46</td>\n",
       "      <td>3.47</td>\n",
       "      <td>49.52</td>\n",
       "      <td>4.41</td>\n",
       "    </tr>\n",
       "    <tr>\n",
       "      <td>6</td>\n",
       "      <td>67.39</td>\n",
       "      <td>4.50</td>\n",
       "      <td>42.07</td>\n",
       "      <td>3.41</td>\n",
       "    </tr>\n",
       "    <tr>\n",
       "      <td>7</td>\n",
       "      <td>74.52</td>\n",
       "      <td>4.55</td>\n",
       "      <td>44.46</td>\n",
       "      <td>3.78</td>\n",
       "    </tr>\n",
       "  </tbody>\n",
       "</table>\n",
       "</div>"
      ],
      "text/plain": [
       "   ulnal  ulnaw   feml  femw\n",
       "3  65.76   4.77  40.04  3.52\n",
       "4  52.09   3.73  33.95  2.72\n",
       "5  50.46   3.47  49.52  4.41\n",
       "6  67.39   4.50  42.07  3.41\n",
       "7  74.52   4.55  44.46  3.78"
      ]
     },
     "execution_count": 15,
     "metadata": {},
     "output_type": "execute_result"
    }
   ],
   "source": [
    "df.iloc[3:8, 3:7 ]\n"
   ]
  },
  {
   "cell_type": "markdown",
   "metadata": {},
   "source": [
    "### Step 15. Select rows where df.femw is greater than 5.2 or less than 10.5"
   ]
  },
  {
   "cell_type": "code",
   "execution_count": 16,
   "metadata": {},
   "outputs": [
    {
     "data": {
      "text/html": [
       "<div>\n",
       "<style scoped>\n",
       "    .dataframe tbody tr th:only-of-type {\n",
       "        vertical-align: middle;\n",
       "    }\n",
       "\n",
       "    .dataframe tbody tr th {\n",
       "        vertical-align: top;\n",
       "    }\n",
       "\n",
       "    .dataframe thead th {\n",
       "        text-align: right;\n",
       "    }\n",
       "</style>\n",
       "<table border=\"1\" class=\"dataframe\">\n",
       "  <thead>\n",
       "    <tr style=\"text-align: right;\">\n",
       "      <th></th>\n",
       "      <th>id</th>\n",
       "      <th>huml</th>\n",
       "      <th>humw</th>\n",
       "      <th>ulnal</th>\n",
       "      <th>ulnaw</th>\n",
       "      <th>feml</th>\n",
       "      <th>femw</th>\n",
       "      <th>tibl</th>\n",
       "      <th>tibw</th>\n",
       "      <th>tarl</th>\n",
       "      <th>tarw</th>\n",
       "      <th>type</th>\n",
       "    </tr>\n",
       "  </thead>\n",
       "  <tbody>\n",
       "    <tr>\n",
       "      <td>8</td>\n",
       "      <td>8</td>\n",
       "      <td>118.20</td>\n",
       "      <td>7.82</td>\n",
       "      <td>116.64</td>\n",
       "      <td>6.13</td>\n",
       "      <td>59.33</td>\n",
       "      <td>5.45</td>\n",
       "      <td>110.00</td>\n",
       "      <td>5.58</td>\n",
       "      <td>61.62</td>\n",
       "      <td>4.37</td>\n",
       "      <td>SW</td>\n",
       "    </tr>\n",
       "    <tr>\n",
       "      <td>9</td>\n",
       "      <td>9</td>\n",
       "      <td>145.00</td>\n",
       "      <td>10.42</td>\n",
       "      <td>144.00</td>\n",
       "      <td>7.05</td>\n",
       "      <td>70.96</td>\n",
       "      <td>7.44</td>\n",
       "      <td>120.00</td>\n",
       "      <td>7.31</td>\n",
       "      <td>78.67</td>\n",
       "      <td>6.34</td>\n",
       "      <td>SW</td>\n",
       "    </tr>\n",
       "    <tr>\n",
       "      <td>10</td>\n",
       "      <td>10</td>\n",
       "      <td>165.00</td>\n",
       "      <td>11.45</td>\n",
       "      <td>156.00</td>\n",
       "      <td>8.68</td>\n",
       "      <td>80.25</td>\n",
       "      <td>7.85</td>\n",
       "      <td>143.00</td>\n",
       "      <td>8.25</td>\n",
       "      <td>86.61</td>\n",
       "      <td>6.63</td>\n",
       "      <td>SW</td>\n",
       "    </tr>\n",
       "    <tr>\n",
       "      <td>11</td>\n",
       "      <td>11</td>\n",
       "      <td>186.00</td>\n",
       "      <td>9.83</td>\n",
       "      <td>152.00</td>\n",
       "      <td>8.76</td>\n",
       "      <td>56.02</td>\n",
       "      <td>7.02</td>\n",
       "      <td>185.00</td>\n",
       "      <td>8.07</td>\n",
       "      <td>90.80</td>\n",
       "      <td>4.59</td>\n",
       "      <td>SW</td>\n",
       "    </tr>\n",
       "    <tr>\n",
       "      <td>12</td>\n",
       "      <td>12</td>\n",
       "      <td>172.00</td>\n",
       "      <td>8.44</td>\n",
       "      <td>142.00</td>\n",
       "      <td>8.43</td>\n",
       "      <td>52.18</td>\n",
       "      <td>6.68</td>\n",
       "      <td>180.00</td>\n",
       "      <td>9.62</td>\n",
       "      <td>82.58</td>\n",
       "      <td>5.50</td>\n",
       "      <td>SW</td>\n",
       "    </tr>\n",
       "    <tr>\n",
       "      <td>...</td>\n",
       "      <td>...</td>\n",
       "      <td>...</td>\n",
       "      <td>...</td>\n",
       "      <td>...</td>\n",
       "      <td>...</td>\n",
       "      <td>...</td>\n",
       "      <td>...</td>\n",
       "      <td>...</td>\n",
       "      <td>...</td>\n",
       "      <td>...</td>\n",
       "      <td>...</td>\n",
       "      <td>...</td>\n",
       "    </tr>\n",
       "    <tr>\n",
       "      <td>237</td>\n",
       "      <td>237</td>\n",
       "      <td>119.12</td>\n",
       "      <td>7.57</td>\n",
       "      <td>137.37</td>\n",
       "      <td>6.06</td>\n",
       "      <td>75.53</td>\n",
       "      <td>6.35</td>\n",
       "      <td>115.02</td>\n",
       "      <td>6.22</td>\n",
       "      <td>60.99</td>\n",
       "      <td>7.91</td>\n",
       "      <td>R</td>\n",
       "    </tr>\n",
       "    <tr>\n",
       "      <td>238</td>\n",
       "      <td>238</td>\n",
       "      <td>117.43</td>\n",
       "      <td>7.13</td>\n",
       "      <td>136.26</td>\n",
       "      <td>5.51</td>\n",
       "      <td>75.54</td>\n",
       "      <td>5.85</td>\n",
       "      <td>115.30</td>\n",
       "      <td>5.45</td>\n",
       "      <td>59.45</td>\n",
       "      <td>8.25</td>\n",
       "      <td>R</td>\n",
       "    </tr>\n",
       "    <tr>\n",
       "      <td>239</td>\n",
       "      <td>239</td>\n",
       "      <td>116.85</td>\n",
       "      <td>7.43</td>\n",
       "      <td>134.80</td>\n",
       "      <td>6.19</td>\n",
       "      <td>73.51</td>\n",
       "      <td>6.10</td>\n",
       "      <td>112.66</td>\n",
       "      <td>5.94</td>\n",
       "      <td>61.25</td>\n",
       "      <td>6.90</td>\n",
       "      <td>R</td>\n",
       "    </tr>\n",
       "    <tr>\n",
       "      <td>240</td>\n",
       "      <td>240</td>\n",
       "      <td>119.58</td>\n",
       "      <td>8.04</td>\n",
       "      <td>138.39</td>\n",
       "      <td>6.25</td>\n",
       "      <td>76.36</td>\n",
       "      <td>6.50</td>\n",
       "      <td>115.90</td>\n",
       "      <td>6.07</td>\n",
       "      <td>59.90</td>\n",
       "      <td>6.92</td>\n",
       "      <td>R</td>\n",
       "    </tr>\n",
       "    <tr>\n",
       "      <td>241</td>\n",
       "      <td>241</td>\n",
       "      <td>126.88</td>\n",
       "      <td>8.01</td>\n",
       "      <td>148.47</td>\n",
       "      <td>6.59</td>\n",
       "      <td>81.42</td>\n",
       "      <td>6.71</td>\n",
       "      <td>124.05</td>\n",
       "      <td>6.58</td>\n",
       "      <td>64.57</td>\n",
       "      <td>7.97</td>\n",
       "      <td>R</td>\n",
       "    </tr>\n",
       "  </tbody>\n",
       "</table>\n",
       "<p>71 rows × 12 columns</p>\n",
       "</div>"
      ],
      "text/plain": [
       "      id    huml   humw   ulnal  ulnaw   feml  femw    tibl  tibw   tarl  \\\n",
       "8      8  118.20   7.82  116.64   6.13  59.33  5.45  110.00  5.58  61.62   \n",
       "9      9  145.00  10.42  144.00   7.05  70.96  7.44  120.00  7.31  78.67   \n",
       "10    10  165.00  11.45  156.00   8.68  80.25  7.85  143.00  8.25  86.61   \n",
       "11    11  186.00   9.83  152.00   8.76  56.02  7.02  185.00  8.07  90.80   \n",
       "12    12  172.00   8.44  142.00   8.43  52.18  6.68  180.00  9.62  82.58   \n",
       "..   ...     ...    ...     ...    ...    ...   ...     ...   ...    ...   \n",
       "237  237  119.12   7.57  137.37   6.06  75.53  6.35  115.02  6.22  60.99   \n",
       "238  238  117.43   7.13  136.26   5.51  75.54  5.85  115.30  5.45  59.45   \n",
       "239  239  116.85   7.43  134.80   6.19  73.51  6.10  112.66  5.94  61.25   \n",
       "240  240  119.58   8.04  138.39   6.25  76.36  6.50  115.90  6.07  59.90   \n",
       "241  241  126.88   8.01  148.47   6.59  81.42  6.71  124.05  6.58  64.57   \n",
       "\n",
       "     tarw type  \n",
       "8    4.37   SW  \n",
       "9    6.34   SW  \n",
       "10   6.63   SW  \n",
       "11   4.59   SW  \n",
       "12   5.50   SW  \n",
       "..    ...  ...  \n",
       "237  7.91    R  \n",
       "238  8.25    R  \n",
       "239  6.90    R  \n",
       "240  6.92    R  \n",
       "241  7.97    R  \n",
       "\n",
       "[71 rows x 12 columns]"
      ]
     },
     "execution_count": 16,
     "metadata": {},
     "output_type": "execute_result"
    }
   ],
   "source": [
    "df[(df['femw'] > 5.2) & (df['femw'] < 10.5) ]\n"
   ]
  },
  {
   "cell_type": "markdown",
   "metadata": {},
   "source": [
    "### Step 16. Select the third cell down in the column named tarl"
   ]
  },
  {
   "cell_type": "code",
   "execution_count": 17,
   "metadata": {},
   "outputs": [
    {
     "data": {
      "text/plain": [
       "35.78"
      ]
     },
     "execution_count": 17,
     "metadata": {},
     "output_type": "execute_result"
    }
   ],
   "source": [
    "df.tarl[3]\n"
   ]
  },
  {
   "cell_type": "code",
   "execution_count": 18,
   "metadata": {},
   "outputs": [
    {
     "data": {
      "text/plain": [
       "35.78"
      ]
     },
     "execution_count": 18,
     "metadata": {},
     "output_type": "execute_result"
    }
   ],
   "source": [
    "df.loc[3,\"tarl\"]\n"
   ]
  },
  {
   "cell_type": "markdown",
   "metadata": {},
   "source": [
    "### Step 17. Compute how many values are non-missing for each feature over the entire record."
   ]
  },
  {
   "cell_type": "code",
   "execution_count": 19,
   "metadata": {},
   "outputs": [
    {
     "data": {
      "text/plain": [
       "id       420\n",
       "huml     419\n",
       "humw     419\n",
       "ulnal    417\n",
       "ulnaw    418\n",
       "feml     418\n",
       "femw     419\n",
       "tibl     418\n",
       "tibw     419\n",
       "tarl     419\n",
       "tarw     419\n",
       "type     420\n",
       "dtype: int64"
      ]
     },
     "execution_count": 19,
     "metadata": {},
     "output_type": "execute_result"
    }
   ],
   "source": [
    "df.notnull().sum()\n"
   ]
  },
  {
   "cell_type": "markdown",
   "metadata": {},
   "source": [
    "### Step18. Calculate Mean and Median of \"tibl\" and \"tibw\" columns"
   ]
  },
  {
   "cell_type": "code",
   "execution_count": 21,
   "metadata": {},
   "outputs": [
    {
     "data": {
      "text/plain": [
       "64.66282296650718"
      ]
     },
     "execution_count": 21,
     "metadata": {},
     "output_type": "execute_result"
    }
   ],
   "source": [
    "df.tibl.mean()"
   ]
  },
  {
   "cell_type": "code",
   "execution_count": 22,
   "metadata": {},
   "outputs": [
    {
     "data": {
      "text/plain": [
       "52.120000000000005"
      ]
     },
     "execution_count": 22,
     "metadata": {},
     "output_type": "execute_result"
    }
   ],
   "source": [
    "df.tibl.median()\n"
   ]
  },
  {
   "cell_type": "code",
   "execution_count": 23,
   "metadata": {},
   "outputs": [
    {
     "data": {
      "text/plain": [
       "3.1823389021479733"
      ]
     },
     "execution_count": 23,
     "metadata": {},
     "output_type": "execute_result"
    }
   ],
   "source": [
    "df.tibw.mean()\n"
   ]
  },
  {
   "cell_type": "code",
   "execution_count": 24,
   "metadata": {},
   "outputs": [
    {
     "data": {
      "text/plain": [
       "2.49"
      ]
     },
     "execution_count": 24,
     "metadata": {},
     "output_type": "execute_result"
    }
   ],
   "source": [
    "df.tibw.median()"
   ]
  },
  {
   "cell_type": "code",
   "execution_count": 25,
   "metadata": {},
   "outputs": [
    {
     "data": {
      "text/html": [
       "<div>\n",
       "<style scoped>\n",
       "    .dataframe tbody tr th:only-of-type {\n",
       "        vertical-align: middle;\n",
       "    }\n",
       "\n",
       "    .dataframe tbody tr th {\n",
       "        vertical-align: top;\n",
       "    }\n",
       "\n",
       "    .dataframe thead th {\n",
       "        text-align: right;\n",
       "    }\n",
       "</style>\n",
       "<table border=\"1\" class=\"dataframe\">\n",
       "  <thead>\n",
       "    <tr style=\"text-align: right;\">\n",
       "      <th></th>\n",
       "      <th>tibl</th>\n",
       "      <th>tibw</th>\n",
       "    </tr>\n",
       "  </thead>\n",
       "  <tbody>\n",
       "    <tr>\n",
       "      <td>mean</td>\n",
       "      <td>64.662823</td>\n",
       "      <td>3.182339</td>\n",
       "    </tr>\n",
       "    <tr>\n",
       "      <td>median</td>\n",
       "      <td>52.120000</td>\n",
       "      <td>2.490000</td>\n",
       "    </tr>\n",
       "  </tbody>\n",
       "</table>\n",
       "</div>"
      ],
      "text/plain": [
       "             tibl      tibw\n",
       "mean    64.662823  3.182339\n",
       "median  52.120000  2.490000"
      ]
     },
     "execution_count": 25,
     "metadata": {},
     "output_type": "execute_result"
    }
   ],
   "source": [
    "df[[\"tibl\",\"tibw\"]].agg([\"mean\",\"median\"])\n"
   ]
  },
  {
   "cell_type": "markdown",
   "metadata": {},
   "source": [
    " ### Step19. Discover what is the mean \"ulnaw\" per every bird category (use Groupby)"
   ]
  },
  {
   "cell_type": "code",
   "execution_count": 26,
   "metadata": {},
   "outputs": [
    {
     "data": {
      "text/html": [
       "<div>\n",
       "<style scoped>\n",
       "    .dataframe tbody tr th:only-of-type {\n",
       "        vertical-align: middle;\n",
       "    }\n",
       "\n",
       "    .dataframe tbody tr th {\n",
       "        vertical-align: top;\n",
       "    }\n",
       "\n",
       "    .dataframe thead th {\n",
       "        text-align: right;\n",
       "    }\n",
       "</style>\n",
       "<table border=\"1\" class=\"dataframe\">\n",
       "  <thead>\n",
       "    <tr style=\"text-align: right;\">\n",
       "      <th></th>\n",
       "      <th>ulnaw</th>\n",
       "    </tr>\n",
       "    <tr>\n",
       "      <th>type</th>\n",
       "      <th></th>\n",
       "    </tr>\n",
       "  </thead>\n",
       "  <tbody>\n",
       "    <tr>\n",
       "      <td>P</td>\n",
       "      <td>2.476316</td>\n",
       "    </tr>\n",
       "    <tr>\n",
       "      <td>R</td>\n",
       "      <td>4.813265</td>\n",
       "    </tr>\n",
       "    <tr>\n",
       "      <td>SO</td>\n",
       "      <td>1.743858</td>\n",
       "    </tr>\n",
       "    <tr>\n",
       "      <td>SW</td>\n",
       "      <td>5.221638</td>\n",
       "    </tr>\n",
       "    <tr>\n",
       "      <td>T</td>\n",
       "      <td>3.471739</td>\n",
       "    </tr>\n",
       "    <tr>\n",
       "      <td>W</td>\n",
       "      <td>4.102615</td>\n",
       "    </tr>\n",
       "  </tbody>\n",
       "</table>\n",
       "</div>"
      ],
      "text/plain": [
       "         ulnaw\n",
       "type          \n",
       "P     2.476316\n",
       "R     4.813265\n",
       "SO    1.743858\n",
       "SW    5.221638\n",
       "T     3.471739\n",
       "W     4.102615"
      ]
     },
     "execution_count": 26,
     "metadata": {},
     "output_type": "execute_result"
    }
   ],
   "source": [
    "df.groupby('type')[['ulnaw']].mean()\n"
   ]
  },
  {
   "cell_type": "markdown",
   "metadata": {},
   "source": [
    "### Step20. Plot graph between all features refuse \"type\" and \"id\" columns"
   ]
  },
  {
   "cell_type": "code",
   "execution_count": 28,
   "metadata": {},
   "outputs": [
    {
     "data": {
      "image/png": "[encoded data removed]",
      "text/plain": [
       "<Figure size 432x288 with 1 Axes>"
      ]
     },
     "metadata": {
      "needs_background": "light"
     },
     "output_type": "display_data"
    }
   ],
   "source": [
    "import matplotlib.pyplot as plt\n",
    "\n",
    "plt.plot(df[\"type\"],df[\"id\"])\n",
    "plt.title(\"Graph between all features refuse \\\"type\\\" and \\\"id\\\" columns\")\n",
    "plt.xlabel(\"Type of bird\")\n",
    "plt.ylabel(\"Id's \")\n",
    "plt.show()"
   ]
  },
  {
   "cell_type": "code",
   "execution_count": null,
   "metadata": {},
   "outputs": [],
   "source": []
  }
 ],
 "metadata": {
  "kernelspec": {
   "display_name": "Python 3",
   "language": "python",
   "name": "python3"
  },
  "language_info": {
   "codemirror_mode": {
    "name": "ipython",
    "version": 3
   },
   "file_extension": ".py",
   "mimetype": "text/x-python",
   "name": "python",
   "nbconvert_exporter": "python",
   "pygments_lexer": "ipython3",
   "version": "3.7.4"
  }
 },
 "nbformat": 4,
 "nbformat_minor": 2
}
