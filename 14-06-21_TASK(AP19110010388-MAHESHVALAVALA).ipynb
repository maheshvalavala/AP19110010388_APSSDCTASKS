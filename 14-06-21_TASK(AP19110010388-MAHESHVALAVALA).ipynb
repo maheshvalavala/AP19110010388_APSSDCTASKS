{
 "cells": [
  {
   "cell_type": "markdown",
   "metadata": {},
   "source": [
    "## 1. Write a pattern to display 4 digit numbers from list"
   ]
  },
  {
   "cell_type": "code",
   "execution_count": 11,
   "metadata": {},
   "outputs": [
    {
     "name": "stdout",
     "output_type": "stream",
     "text": [
      "0388\n",
      "1234\n",
      "7606\n",
      "5820\n",
      "1313\n"
     ]
    }
   ],
   "source": [
    "# Method 1\n",
    "import re\n",
    "list1 = {\"0388\",\"78934903\",\"345678\",\"1234\",\"7606\",\"87878\",\"5820\",\"1313\"}\n",
    "for i in list1:\n",
    "    if re.findall('^[0-9]{4}$',i):\n",
    "        print(i)"
   ]
  },
  {
   "cell_type": "code",
   "execution_count": 3,
   "metadata": {},
   "outputs": [
    {
     "name": "stdout",
     "output_type": "stream",
     "text": [
      "Enter no.of elements for list: 6\n",
      "9959\n",
      "123456789\n",
      "121212313\n",
      "1313\n",
      "13456\n",
      "9876\n",
      "The List is:  ['9959', '123456789', '121212313', '1313', '13456', '9876']\n",
      "The Four digits numbers from the list are : \n",
      "9959 \t1313 \t9876 \t"
     ]
    }
   ],
   "source": [
    "# Method 2\n",
    "l1 = []\n",
    "n = int(input(\"Enter no.of elements for list: \"))\n",
    "for i in range(n):\n",
    "    a = input()\n",
    "    l1.append(a)\n",
    "print(\"The List is: \",l1)\n",
    "\n",
    "import re\n",
    "print(\"The Four digits numbers from the list are : \")\n",
    "for i in l1:\n",
    "    if re.findall('^[0-9]{4}$',i):\n",
    "        print(i, end =\" \\t\")"
   ]
  },
  {
   "cell_type": "markdown",
   "metadata": {},
   "source": [
    "## 2. Validate a phone number using patterns"
   ]
  },
  {
   "cell_type": "code",
   "execution_count": 8,
   "metadata": {},
   "outputs": [
    {
     "name": "stdout",
     "output_type": "stream",
     "text": [
      "6247888433\n",
      "9999532726\n",
      "7207201571\n"
     ]
    }
   ],
   "source": [
    "# Method1\n",
    "import re\n",
    "ph_list = [\"6247888433\",\"9999532726\",\"7207201571\",\"789654\",\"1234567890\"]\n",
    "for i in ph_list:\n",
    "    if re.findall('[6-9]{1}[0-9]{9}$',i):\n",
    "        print(i)"
   ]
  },
  {
   "cell_type": "code",
   "execution_count": 5,
   "metadata": {},
   "outputs": [
    {
     "name": "stdout",
     "output_type": "stream",
     "text": [
      "Enter no.of elements for list: 6\n",
      "1234567890\n",
      "9963039933\n",
      "9866447155\n",
      "9949161379\n",
      "6309262778\n",
      "8769388\n",
      "The List is:  ['1234567890', '9963039933', '9866447155', '9949161379', '6309262778', '8769388']\n",
      "The Validate phone numbers from the list are : \n",
      "9963039933\n",
      "9866447155\n",
      "9949161379\n",
      "6309262778\n"
     ]
    }
   ],
   "source": [
    "# Method 2\n",
    "ph_list = []\n",
    "n = int(input(\"Enter no.of elements for list: \"))\n",
    "for i in range(n):\n",
    "    a = input()\n",
    "    ph_list.append(a)\n",
    "print(\"The List is: \",ph_list)\n",
    "\n",
    "import re\n",
    "print(\"The Validate phone numbers from the list are : \")\n",
    "for i in ph_list:\n",
    "    if re.findall('[6-9]{1}[0-9]{9}$',i):\n",
    "        print(i)"
   ]
  },
  {
   "cell_type": "code",
   "execution_count": null,
   "metadata": {},
   "outputs": [],
   "source": []
  }
 ],
 "metadata": {
  "kernelspec": {
   "display_name": "Python 3",
   "language": "python",
   "name": "python3"
  },
  "language_info": {
   "codemirror_mode": {
    "name": "ipython",
    "version": 3
   },
   "file_extension": ".py",
   "mimetype": "text/x-python",
   "name": "python",
   "nbconvert_exporter": "python",
   "pygments_lexer": "ipython3",
   "version": "3.7.4"
  }
 },
 "nbformat": 4,
 "nbformat_minor": 2
}
