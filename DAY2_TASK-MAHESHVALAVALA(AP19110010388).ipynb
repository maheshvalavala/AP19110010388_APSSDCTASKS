{
 "cells": [
  {
   "cell_type": "markdown",
   "metadata": {},
   "source": [
    "### NAME - MAHESH VALAVALA\n",
    "### ROLL Number - AP19110010388\n",
    "### BRANCH - CSE\n",
    "#### Day 2 Tasks -\n",
    "* 1. Write a program to check wheather the user eligible for vote or not\n",
    "* 2. Check the given number is positive or negative\n",
    "* 3. check the given number is even or odd if it's even check which is divisible by 4 or not\n",
    "* 4. write a program to print student grade based on persentage like Distinction,pass or fail\n",
    "* 5. Check the given year is Leap or not"
   ]
  },
  {
   "cell_type": "markdown",
   "metadata": {},
   "source": [
    "**1. Write a program to check whether the user eligible for vote or not**"
   ]
  },
  {
   "cell_type": "code",
   "execution_count": 2,
   "metadata": {},
   "outputs": [
    {
     "name": "stdout",
     "output_type": "stream",
     "text": [
      "Please enter age of the person: 20\n",
      "The person is eligible to vote\n"
     ]
    }
   ],
   "source": [
    "person_age = int(input(\"Please enter age of the person: \"))\n",
    "if person_age>=18:\n",
    "    print(\"The person is eligible to vote\")\n",
    "else:\n",
    "    print(\"The person is not eligible to vote\")"
   ]
  },
  {
   "cell_type": "markdown",
   "metadata": {},
   "source": [
    "**2. Check the given number is positive or negative**"
   ]
  },
  {
   "cell_type": "code",
   "execution_count": 3,
   "metadata": {},
   "outputs": [
    {
     "name": "stdout",
     "output_type": "stream",
     "text": [
      "Enter any number: 999\n",
      "The Given Number is a positive number and the given number is 999.0\n"
     ]
    }
   ],
   "source": [
    "given_number = float(input(\"Enter any number: \"))\n",
    "if given_number>0:\n",
    "    print(\"The Given Number is a positive number and the given number is {}\".format(given_number))\n",
    "elif given_number<0:\n",
    "    print(\"The Given Number is a negative number and the given number is {}\".format(given_number))\n",
    "else:\n",
    "    print(\"The Given Number is 0\")"
   ]
  },
  {
   "cell_type": "markdown",
   "metadata": {},
   "source": [
    "**3. Check the given number is even or odd if it's even check which is divisible by 4 or not**"
   ]
  },
  {
   "cell_type": "code",
   "execution_count": 5,
   "metadata": {},
   "outputs": [
    {
     "name": "stdout",
     "output_type": "stream",
     "text": [
      "16\n",
      "the given number is even\n",
      "The number can be divisible by 4\n"
     ]
    }
   ],
   "source": [
    "n = int(input())\n",
    "if(n%2==0):\n",
    "    print(\"the given number is even\")\n",
    "    if(n%4==0):\n",
    "        print(\"The number can be divisible by 4\")\n",
    "    else:\n",
    "        print(\"The number is not divisible by 4\")\n",
    "else:\n",
    "    print(\"the given number is odd\")"
   ]
  },
  {
   "cell_type": "markdown",
   "metadata": {},
   "source": [
    "**4. Write a program to print student grade based on percentage like Distinction,pass or fail**"
   ]
  },
  {
   "cell_type": "code",
   "execution_count": 6,
   "metadata": {},
   "outputs": [
    {
     "name": "stdout",
     "output_type": "stream",
     "text": [
      "98\n",
      "Hey! you passed in Distinction\n"
     ]
    }
   ],
   "source": [
    "per = float(input())\n",
    "if(per>=85):\n",
    "    print(\"Hey! you passed in Distinction\")\n",
    "elif(per>35):\n",
    "    print(\"Congratulation you passed\")\n",
    "else:\n",
    "    print(\"You Failed \")\n",
    "    "
   ]
  },
  {
   "cell_type": "markdown",
   "metadata": {},
   "source": [
    "**5. Check the given year is Leap or not**"
   ]
  },
  {
   "cell_type": "code",
   "execution_count": 7,
   "metadata": {},
   "outputs": [
    {
     "name": "stdout",
     "output_type": "stream",
     "text": [
      "Enter Year: 2016\n",
      "2016 is a Leap Year\n"
     ]
    }
   ],
   "source": [
    "Year = int(input(\"Enter Year: \"))\n",
    "if Year % 4 == 0 and Year % 100 != 0:\n",
    "    print(Year, \"is a Leap Year\")\n",
    "elif Year % 100 == 0:\n",
    "    print(Year, \"is not a Leap Year\")\n",
    "elif Year % 400 ==0:\n",
    "    print(Year, \"is a Leap Year\")\n",
    "else:\n",
    "    print(Year, \"is not a Leap Year\")"
   ]
  },
  {
   "cell_type": "code",
   "execution_count": null,
   "metadata": {},
   "outputs": [],
   "source": []
  }
 ],
 "metadata": {
  "kernelspec": {
   "display_name": "Python 3",
   "language": "python",
   "name": "python3"
  },
  "language_info": {
   "codemirror_mode": {
    "name": "ipython",
    "version": 3
   },
   "file_extension": ".py",
   "mimetype": "text/x-python",
   "name": "python",
   "nbconvert_exporter": "python",
   "pygments_lexer": "ipython3",
   "version": "3.7.4"
  }
 },
 "nbformat": 4,
 "nbformat_minor": 2
}
