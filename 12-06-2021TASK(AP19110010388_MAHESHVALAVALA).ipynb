{
 "cells": [
  {
   "cell_type": "markdown",
   "metadata": {},
   "source": [
    "# TASK"
   ]
  },
  {
   "cell_type": "markdown",
   "metadata": {},
   "source": [
    "* Write a Python script to print a dictionary where the keys are numbers between 1 and 15 (both included) and the values are square of keys\n",
    "* Write a Python program to map two lists into a dictionary\n",
    "* Write a Python program to sort a list alphabetically in a dictionary\n",
    " * input : {'n1': [2, 3, 1], 'n2': [5, 1, 2], 'n3': [3, 2, 4]}\n",
    " * output : {'n1': [1, 2, 3], 'n2': [1, 2, 5], 'n3': [2, 3, 4]}"
   ]
  },
  {
   "cell_type": "markdown",
   "metadata": {},
   "source": [
    "1. Write a Python script to print a dictionary where the keys are numbers between 1 and 15 (both included) and the values are square of keys"
   ]
  },
  {
   "cell_type": "code",
   "execution_count": 3,
   "metadata": {},
   "outputs": [
    {
     "name": "stdout",
     "output_type": "stream",
     "text": [
      "{1: 1, 2: 4, 3: 9, 4: 16, 5: 25, 6: 36, 7: 49, 8: 64, 9: 81, 10: 100, 11: 121, 12: 144, 13: 169, 14: 196, 15: 225} "
     ]
    }
   ],
   "source": [
    "d = {}\n",
    "for i in range(1,16):\n",
    "    d[i] = i ** 2\n",
    "    \n",
    "print(d, end =\" \")"
   ]
  },
  {
   "cell_type": "markdown",
   "metadata": {},
   "source": [
    "2. Write a Python program to map two lists into a dictionary"
   ]
  },
  {
   "cell_type": "code",
   "execution_count": 1,
   "metadata": {},
   "outputs": [
    {
     "name": "stdout",
     "output_type": "stream",
     "text": [
      "Enter no.of elements for list: 4\n",
      "A\n",
      "B\n",
      "C\n",
      "D\n",
      "The entered keys are:  ['A', 'B', 'C', 'D']\n",
      "11\n",
      "222\n",
      "3333\n",
      "44444\n",
      "The entered values are:  ['11', '222', '3333', '44444']\n",
      "The Dictionary is:  {'A': '11', 'B': '222', 'C': '3333', 'D': '44444'}\n"
     ]
    }
   ],
   "source": [
    "l1 = []\n",
    "l2 = []\n",
    "n = int(input(\"Enter no.of elements for list: \"))\n",
    "for i in range(0,n):\n",
    "    a = str(input())\n",
    "    l1.append(a)\n",
    "print(\"The entered keys are: \",l1)\n",
    "for j in range(0,n):\n",
    "    b = str(input())\n",
    "    l2.append(b)\n",
    "print(\"The entered values are: \",l2)\n",
    "\n",
    "print(\"The Dictionary is: \",{l1[i]:l2[i] for i in range(n)})"
   ]
  },
  {
   "cell_type": "markdown",
   "metadata": {},
   "source": [
    "3. Write a Python program to sort a list alphabetically in a dictionary\n",
    " * input : {'n1': [2, 3, 1], 'n2': [5, 1, 2], 'n3': [3, 2, 4]}\n",
    " * output : {'n1': [1, 2, 3], 'n2': [1, 2, 5], 'n3': [2, 3, 4]}"
   ]
  },
  {
   "cell_type": "code",
   "execution_count": 4,
   "metadata": {},
   "outputs": [
    {
     "name": "stdout",
     "output_type": "stream",
     "text": [
      "{'a1': [9, 99, 999], 'b1': [1, 2, 5], 'c1': [2, 3, 4]}\n"
     ]
    }
   ],
   "source": [
    "dict = {'a1': [9, 99, 999], 'b1': [5, 1, 2], 'c1': [3, 2, 4]}\n",
    "print({k:sorted(v) for k,v in dict.items()})"
   ]
  },
  {
   "cell_type": "code",
   "execution_count": null,
   "metadata": {},
   "outputs": [],
   "source": []
  }
 ],
 "metadata": {
  "kernelspec": {
   "display_name": "Python 3",
   "language": "python",
   "name": "python3"
  },
  "language_info": {
   "codemirror_mode": {
    "name": "ipython",
    "version": 3
   },
   "file_extension": ".py",
   "mimetype": "text/x-python",
   "name": "python",
   "nbconvert_exporter": "python",
   "pygments_lexer": "ipython3",
   "version": "3.7.4"
  }
 },
 "nbformat": 4,
 "nbformat_minor": 2
}
